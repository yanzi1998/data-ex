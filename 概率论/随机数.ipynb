{
 "cells": [
  {
   "cell_type": "code",
   "execution_count": 2,
   "id": "b3de0995-6ae1-45b4-82a2-e73fe17a9942",
   "metadata": {},
   "outputs": [
    {
     "data": {
      "text/plain": [
       "0.1246233240304383"
      ]
     },
     "execution_count": 2,
     "metadata": {},
     "output_type": "execute_result"
    }
   ],
   "source": [
    "import random\n",
    "random.random()"
   ]
  },
  {
   "cell_type": "markdown",
   "id": "259bface-36e7-4afb-8c56-737045480b91",
   "metadata": {},
   "source": [
    "构建一些没有播种的随机数据。该random.random()函数返回区间 [0.0, 1.0) 中的随机浮点数。结果将始终小于右侧端点 (1.0)。这也称为半开放范围："
   ]
  },
  {
   "cell_type": "code",
   "execution_count": 3,
   "id": "d14e8db1-0dac-412b-b405-ca9c5145c5b1",
   "metadata": {},
   "outputs": [
    {
     "data": {
      "text/plain": [
       "0.12819348030406186"
      ]
     },
     "execution_count": 3,
     "metadata": {},
     "output_type": "execute_result"
    }
   ],
   "source": [
    "random.random()"
   ]
  },
  {
   "cell_type": "markdown",
   "id": "03bce5f1-eb41-45e5-91b5-7cea084d18fd",
   "metadata": {},
   "source": [
    "使用random.seed()，您可以使结果可重现，之后的调用链random.seed()将产生相同的数据轨迹："
   ]
  },
  {
   "cell_type": "code",
   "execution_count": 8,
   "id": "2e1d54cb-6e22-4579-8870-7a66c412f09c",
   "metadata": {},
   "outputs": [
    {
     "data": {
      "text/plain": [
       "0.5548354562432166"
      ]
     },
     "execution_count": 8,
     "metadata": {},
     "output_type": "execute_result"
    }
   ],
   "source": [
    "random.seed(333)\n",
    "random.random()\n"
   ]
  },
  {
   "cell_type": "code",
   "execution_count": 9,
   "id": "7db872b2-d701-4dee-be64-20720d7c2f55",
   "metadata": {},
   "outputs": [
    {
     "data": {
      "text/plain": [
       "0.5548354562432166"
      ]
     },
     "execution_count": 9,
     "metadata": {},
     "output_type": "execute_result"
    }
   ],
   "source": [
    "random.seed(333)\n",
    "random.random()"
   ]
  },
  {
   "cell_type": "markdown",
   "id": "0bf0a2d0-7e0a-4ad9-b4b6-a4df950b8eed",
   "metadata": {},
   "source": [
    "random.randint()函数在 Python 中的两个端点之间生成一个随机整数.这跨越了完整的 [x, y] 区间并且可能包括两个端点："
   ]
  },
  {
   "cell_type": "code",
   "execution_count": 10,
   "id": "9ea44e66-2b47-4cec-a922-c2c57823eca0",
   "metadata": {},
   "outputs": [
    {
     "data": {
      "text/plain": [
       "5"
      ]
     },
     "execution_count": 10,
     "metadata": {},
     "output_type": "execute_result"
    }
   ],
   "source": [
    "random.randint(0,10)"
   ]
  },
  {
   "cell_type": "code",
   "execution_count": 11,
   "id": "ff82f775-fd7b-43d0-b602-0999dc1d603a",
   "metadata": {},
   "outputs": [
    {
     "data": {
      "text/plain": [
       "2267"
      ]
     },
     "execution_count": 11,
     "metadata": {},
     "output_type": "execute_result"
    }
   ],
   "source": [
    "random.randint(500,5000)"
   ]
  },
  {
   "cell_type": "markdown",
   "id": "55f0bac4-f5dc-4bc7-9ae1-42be2c842a91",
   "metadata": {},
   "source": [
    "使用random.randrange()，您可以排除区间的右侧，这意味着生成的数字始终位于 [x, y) 内，并且始终小于右端点"
   ]
  },
  {
   "cell_type": "code",
   "execution_count": 12,
   "id": "20ad2f84-a25e-47cd-ad79-b1774557f859",
   "metadata": {},
   "outputs": [
    {
     "data": {
      "text/plain": [
       "6"
      ]
     },
     "execution_count": 12,
     "metadata": {},
     "output_type": "execute_result"
    }
   ],
   "source": [
    "random.randrange(0,10)"
   ]
  },
  {
   "cell_type": "code",
   "execution_count": 13,
   "id": "d8e08a4b-f8de-4894-9b72-6e78245ed8c1",
   "metadata": {},
   "outputs": [
    {
     "data": {
      "text/plain": [
       "1"
      ]
     },
     "execution_count": 13,
     "metadata": {},
     "output_type": "execute_result"
    }
   ],
   "source": [
    "random.randrange(0,10)"
   ]
  },
  {
   "cell_type": "markdown",
   "id": "61144d95-87cc-4ddc-95cc-c278f2022c32",
   "metadata": {},
   "source": [
    "如果您需要生成位于特定 [x, y] 区间内的随机浮点数，您可以使用random.uniform()，它从连续均匀分布中提取："
   ]
  },
  {
   "cell_type": "code",
   "execution_count": 18,
   "id": "5b327d21-893d-45ee-80ec-e368f22f90a6",
   "metadata": {},
   "outputs": [
    {
     "data": {
      "text/plain": [
       "24.197030011725477"
      ]
     },
     "execution_count": 18,
     "metadata": {},
     "output_type": "execute_result"
    }
   ],
   "source": [
    "random.uniform(20,30)"
   ]
  },
  {
   "cell_type": "code",
   "execution_count": 21,
   "id": "b2738044-4ee7-411d-97c3-4363e4cf3e7c",
   "metadata": {},
   "outputs": [
    {
     "data": {
      "text/plain": [
       "'banana'"
      ]
     },
     "execution_count": 21,
     "metadata": {},
     "output_type": "execute_result"
    }
   ],
   "source": [
    "items = ['apple','banana','orange','grape']\n",
    "random.choice(items)"
   ]
  },
  {
   "cell_type": "code",
   "execution_count": 22,
   "id": "40f1e5d5-aa80-47cb-8249-1c188961f691",
   "metadata": {},
   "outputs": [
    {
     "data": {
      "text/plain": [
       "'grape'"
      ]
     },
     "execution_count": 22,
     "metadata": {},
     "output_type": "execute_result"
    }
   ],
   "source": [
    "random.choice(items)"
   ]
  },
  {
   "cell_type": "code",
   "execution_count": 36,
   "id": "fc42a2b6-3273-4af5-a4f4-97a62e162471",
   "metadata": {},
   "outputs": [
    {
     "data": {
      "text/plain": [
       "['grape', 'grape']"
      ]
     },
     "execution_count": 36,
     "metadata": {},
     "output_type": "execute_result"
    }
   ],
   "source": [
    "random.choices(items,k = 2)"
   ]
  },
  {
   "cell_type": "code",
   "execution_count": 35,
   "id": "7f31e68a-7e04-4b08-a42a-d4e5f2f995ae",
   "metadata": {},
   "outputs": [
    {
     "data": {
      "text/plain": [
       "['grape', 'apple', 'apple']"
      ]
     },
     "execution_count": 35,
     "metadata": {},
     "output_type": "execute_result"
    }
   ],
   "source": [
    "random.choices(items,k = 3)"
   ]
  },
  {
   "cell_type": "code",
   "execution_count": 37,
   "id": "320794b5-2f70-40d7-800e-38ae2d47ec82",
   "metadata": {},
   "outputs": [
    {
     "data": {
      "text/plain": [
       "['orange', 'banana', 'grape']"
      ]
     },
     "execution_count": 37,
     "metadata": {},
     "output_type": "execute_result"
    }
   ],
   "source": [
    "random.sample(items,3) #不重样\n"
   ]
  },
  {
   "cell_type": "code",
   "execution_count": 41,
   "id": "78863290-d68c-43c6-b29d-a6b21ac390c5",
   "metadata": {},
   "outputs": [
    {
     "data": {
      "text/plain": [
       "['apple', 'grape', 'banana', 'orange']"
      ]
     },
     "execution_count": 41,
     "metadata": {},
     "output_type": "execute_result"
    }
   ],
   "source": [
    "random.shuffle(items)  #随机排列\n",
    "items"
   ]
  },
  {
   "cell_type": "code",
   "execution_count": 45,
   "id": "c910655b-d580-4276-8b1e-13cd94df471e",
   "metadata": {},
   "outputs": [
    {
     "data": {
      "text/plain": [
       "[0.24505988628667785,\n",
       " 0.2068398283884113,\n",
       " 0.19267218331187486,\n",
       " 0.5618099084051984,\n",
       " 0.2976771614146929]"
      ]
     },
     "execution_count": 45,
     "metadata": {},
     "output_type": "execute_result"
    }
   ],
   "source": [
    "[random.random() for _ in range(5)]"
   ]
  },
  {
   "cell_type": "markdown",
   "id": "9ae684d2-5137-447f-8557-109f892079b4",
   "metadata": {},
   "source": [
    "# numpy部分"
   ]
  },
  {
   "cell_type": "code",
   "execution_count": 51,
   "id": "2686ee5c-a18e-46f9-8b94-195c628fa335",
   "metadata": {},
   "outputs": [],
   "source": [
    "import numpy as np\n",
    "np.random.seed(555)\n",
    "np.set_printoptions(precision = 3)"
   ]
  },
  {
   "cell_type": "code",
   "execution_count": 57,
   "id": "af3f5551-57b7-4317-9616-92f4748cca91",
   "metadata": {},
   "outputs": [
    {
     "data": {
      "text/plain": [
       "array([0.515, 0.355, 0.968, 0.75 ])"
      ]
     },
     "execution_count": 57,
     "metadata": {},
     "output_type": "execute_result"
    }
   ],
   "source": [
    "np.random.rand(4)"
   ]
  },
  {
   "cell_type": "code",
   "execution_count": 53,
   "id": "57e73db2-1241-4979-a717-fd410e729dc1",
   "metadata": {},
   "outputs": [
    {
     "data": {
      "text/plain": [
       "array([[-0.157,  0.437, -0.846,  2.167],\n",
       "       [ 0.334, -0.378,  0.596,  2.053],\n",
       "       [-0.04 , -0.577, -0.061,  0.998]])"
      ]
     },
     "execution_count": 53,
     "metadata": {},
     "output_type": "execute_result"
    }
   ],
   "source": [
    "np.random.randn(3,4)"
   ]
  },
  {
   "cell_type": "code",
   "execution_count": 55,
   "id": "40ff03d7-4283-44af-80cd-d256ae5b226e",
   "metadata": {},
   "outputs": [
    {
     "data": {
      "text/plain": [
       "array([[0, 0, 0, 1, 0],\n",
       "       [0, 1, 0, 0, 0],\n",
       "       [0, 0, 1, 1, 0],\n",
       "       [0, 1, 0, 1, 0],\n",
       "       [0, 0, 1, 0, 0]])"
      ]
     },
     "execution_count": 55,
     "metadata": {},
     "output_type": "execute_result"
    }
   ],
   "source": [
    "np.random.choice([0,1],p = [0.7,0.3],size = (5,5))"
   ]
  },
  {
   "cell_type": "code",
   "execution_count": 56,
   "id": "55e8f501-0b4b-42af-92c8-92a14c6ebbc8",
   "metadata": {},
   "outputs": [
    {
     "data": {
      "text/plain": [
       "array([[-2.951, -4.711],\n",
       "       [-2.288, -0.766],\n",
       "       [-0.876, -3.796]])"
      ]
     },
     "execution_count": 56,
     "metadata": {},
     "output_type": "execute_result"
    }
   ],
   "source": [
    "5 * np.random.random_sample((3,2)) - 5"
   ]
  },
  {
   "cell_type": "code",
   "execution_count": null,
   "id": "e382be27-5e5f-4213-995f-d617479a0403",
   "metadata": {},
   "outputs": [],
   "source": [
    "items = ['apple','banana','orange','grape']"
   ]
  },
  {
   "cell_type": "code",
   "execution_count": null,
   "id": "54047c94-0949-4ba2-8953-0cef0705b692",
   "metadata": {},
   "outputs": [],
   "source": []
  },
  {
   "cell_type": "code",
   "execution_count": 63,
   "id": "15993337-bfa8-4514-bbe2-22397011df3a",
   "metadata": {},
   "outputs": [
    {
     "data": {
      "text/plain": [
       "['banana', 'apple', 'orange', 'grape']"
      ]
     },
     "execution_count": 63,
     "metadata": {},
     "output_type": "execute_result"
    }
   ],
   "source": [
    "np.random.shuffle(items)\n",
    "items"
   ]
  },
  {
   "cell_type": "code",
   "execution_count": null,
   "id": "72b1a0f0-6a4b-44f0-9c1c-2fe51f5e809b",
   "metadata": {},
   "outputs": [],
   "source": []
  }
 ],
 "metadata": {
  "kernelspec": {
   "display_name": "Python 3",
   "language": "python",
   "name": "python3"
  },
  "language_info": {
   "codemirror_mode": {
    "name": "ipython",
    "version": 3
   },
   "file_extension": ".py",
   "mimetype": "text/x-python",
   "name": "python",
   "nbconvert_exporter": "python",
   "pygments_lexer": "ipython3",
   "version": "3.8.8"
  }
 },
 "nbformat": 4,
 "nbformat_minor": 5
}
