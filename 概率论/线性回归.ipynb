{
 "cells": [
  {
   "cell_type": "code",
   "execution_count": null,
   "id": "24c8f576-4169-4c39-aebd-21a5202d0450",
   "metadata": {},
   "outputs": [],
   "source": []
  },
  {
   "cell_type": "code",
   "execution_count": null,
   "id": "a833b6f7-d641-4a51-aa27-4fc339b5b2ed",
   "metadata": {},
   "outputs": [],
   "source": [
    "期望就是平均数随样本趋于无穷的极限\n"
   ]
  },
  {
   "cell_type": "code",
   "execution_count": 3,
   "id": "f6613b56-b0e7-44bd-b365-4069b31e56f7",
   "metadata": {},
   "outputs": [
    {
     "ename": "SyntaxError",
     "evalue": "invalid character in identifier (<ipython-input-3-2891e85fb396>, line 3)",
     "output_type": "error",
     "traceback": [
      "\u001b[0;36m  File \u001b[0;32m\"<ipython-input-3-2891e85fb396>\"\u001b[0;36m, line \u001b[0;32m3\u001b[0m\n\u001b[0;31m    print（random_data.mean()） # 打印平均值\u001b[0m\n\u001b[0m                    ^\u001b[0m\n\u001b[0;31mSyntaxError\u001b[0m\u001b[0;31m:\u001b[0m invalid character in identifier\n"
     ]
    }
   ],
   "source": [
    "import numpy as np \n",
    "random_data = np.random.randint(1, 7, 10000)\n",
    "print（random_data.mean()） # 打印平均值\n",
    "print（random_data.std()）"
   ]
  },
  {
   "cell_type": "code",
   "execution_count": 4,
   "id": "97705579-c7f6-4d82-ac77-be97425cc8b8",
   "metadata": {},
   "outputs": [],
   "source": [
    "import matplotlib.pyplot as plt\n",
    "plt.style.use('ggplot')"
   ]
  },
  {
   "cell_type": "code",
   "execution_count": 5,
   "id": "eeab0ef3-4a40-4abf-81a6-f8e1d2a51235",
   "metadata": {},
   "outputs": [],
   "source": [
    "import numpy as np\n",
    "import scipy.stats\n",
    "x = np.arange(10, 20)\n",
    "y = np.array([2, 1, 4, 5, 8, 12, 18, 25, 96, 48])\n",
    "z = np.array([5, 3, 2, 1, 0, -2, -8, -11, -15, -16])\n",
    "xyz = np.array([[10, 11, 12, 13, 14, 15, 16, 17, 18, 19],\n",
    "                [2, 1, 4, 5, 8, 12, 18, 25, 96, 48],\n",
    "                [5, 3, 2, 1, 0, -2, -8, -11, -15, -16]])"
   ]
  },
  {
   "cell_type": "code",
   "execution_count": 6,
   "id": "4e7834d5-1e96-4e87-8872-70a56afe3d9f",
   "metadata": {},
   "outputs": [],
   "source": [
    "slope, intercept, r, p, stderr = scipy.stats.linregress(x, y)"
   ]
  },
  {
   "cell_type": "code",
   "execution_count": 7,
   "id": "c8a744a9-810a-4aa6-9944-cd7a23e8961e",
   "metadata": {},
   "outputs": [
    {
     "data": {
      "text/plain": [
       "'Regression line: y=-85.93+7.44x, r=0.76'"
      ]
     },
     "execution_count": 7,
     "metadata": {},
     "output_type": "execute_result"
    }
   ],
   "source": [
    "line = f'Regression line: y={intercept:.2f}+{slope:.2f}x, r={r:.2f}'\n",
    "line"
   ]
  },
  {
   "cell_type": "code",
   "execution_count": 8,
   "id": "78646913-04c2-4c23-ac27-07105ad72dbe",
   "metadata": {},
   "outputs": [
    {
     "data": {
      "image/png": "[encoded data removed]",
      "text/plain": [
       "<Figure size 432x288 with 1 Axes>"
      ]
     },
     "metadata": {},
     "output_type": "display_data"
    }
   ],
   "source": [
    "fig, ax = plt.subplots()\n",
    "ax.plot(x, y, linewidth=0, marker='s', label='Data points')\n",
    "ax.plot(x, intercept + slope * x, label=line)\n",
    "ax.set_xlabel('x')\n",
    "ax.set_ylabel('y')\n",
    "ax.legend(facecolor='white')\n",
    "plt.show()"
   ]
  },
  {
   "cell_type": "code",
   "execution_count": null,
   "id": "21e47887-5031-4371-9a39-0548dcff177a",
   "metadata": {},
   "outputs": [],
   "source": [
    "https://blog.csdn.net/m0_37804518/article/details/78490709?ops_request_misc=%257B%2522request%255Fid%2522%253A%2522163836786816780357223910%2522%252C%2522scm%2522%253A%252220140713.130102334..%2522%257D&request_id=163836786816780357223910&biz_id=0&utm_medium=distribute.pc_search_result.none-task-blog-2~all~sobaiduend~default-2-78490709.first_rank_v2_pc_rank_v29&utm_term=numpy+随机数&spm=1018.2226.3001.4187"
   ]
  },
  {
   "cell_type": "code",
   "execution_count": null,
   "id": "9daaaa17-3205-40f1-8c0e-c4b40f14b9fe",
   "metadata": {},
   "outputs": [],
   "source": []
  }
 ],
 "metadata": {
  "kernelspec": {
   "display_name": "Python 3",
   "language": "python",
   "name": "python3"
  },
  "language_info": {
   "codemirror_mode": {
    "name": "ipython",
    "version": 3
   },
   "file_extension": ".py",
   "mimetype": "text/x-python",
   "name": "python",
   "nbconvert_exporter": "python",
   "pygments_lexer": "ipython3",
   "version": "3.8.8"
  }
 },
 "nbformat": 4,
 "nbformat_minor": 5
}
