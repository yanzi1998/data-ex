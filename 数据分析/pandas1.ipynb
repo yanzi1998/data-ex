{
 "cells": [
  {
   "cell_type": "code",
   "execution_count": null,
   "id": "804f4209-1bc5-4a3f-bfc6-fbdc36f056a6",
   "metadata": {},
   "outputs": [],
   "source": [
    "# import numpy as np\n",
    "import pandas as pd\n",
    "import matplotlib.pyplot as plt\n",
    "from pylab import *\n",
    "rcParams['axes.unicode_minus'] = False\n",
    "rcParams['font.sans-serif'] = ['Simhei']\n",
    "y1 = (1,2,3,4,5,6,7,8,10)\n",
    "y2 = (1,2,3,10,5,6,7,8,15)\n",
    "data = pd.DataFrame({\"Seq2seq\": y1, \"LSTM\": y2})\n",
    "df = pd.DataFrame(data)\n",
    "df.plot.box()\n",
    "plt.xlabel(\"\",fontsize=16)\n",
    "plt.ylabel(\"\",fontsize=16)\n",
    "plt.grid(linestyle=\"--\", alpha=0.8)\n",
    "print(df.describe())#显示中位数、上下四分位数、标准偏差等内容\n",
    "plt.show()\n",
    "\n"
   ]
  },
  {
   "cell_type": "code",
   "execution_count": 5,
   "id": "57e03c1c-45e5-4d7b-a5f3-78e7ce9811ca",
   "metadata": {},
   "outputs": [
    {
     "data": {
      "text/plain": [
       "<AxesSubplot:xlabel='月份'>"
      ]
     },
     "execution_count": 5,
     "metadata": {},
     "output_type": "execute_result"
    },
    {
     "name": "stderr",
     "output_type": "stream",
     "text": [
      "findfont: Font family ['sans-serif'] not found. Falling back to DejaVu Sans.\n"
     ]
    },
    {
     "data": {
      "image/png": "[encoded data removed]",
      "text/plain": [
       "<Figure size 432x288 with 1 Axes>"
      ]
     },
     "metadata": {
      "needs_background": "light"
     },
     "output_type": "display_data"
    }
   ],
   "source": [
    "import pandas as pd\n",
    "import matplotlib.pyplot as plt\n",
    "from pylab import *\n",
    "rcParams['axes.unicode_minus'] = False\n",
    "rcParams['font.sans-serif'] = ['Simhei']\n",
    "data= pd.DataFrame({'月份':['1月','2月','3月','4月','5月','6月'],\n",
    "                   '销量':[12388,10090,8900,5600,3200,20009]})\n",
    "data.plot.bar(x='月份',y='销量',color=['#9400D3','#9932CC','#4B0082','#8A2BE2','#9370DB','#7B68EE'])"
   ]
  },
  {
   "cell_type": "code",
   "execution_count": 7,
   "id": "cbe89580-a3d2-4f01-b8e9-0c686e8a650f",
   "metadata": {},
   "outputs": [],
   "source": [
    "import pandas as pd\n",
    "df = pd.read_excel('data.xlsx')\n",
    "df1 = df.head()\n"
   ]
  },
  {
   "cell_type": "code",
   "execution_count": 8,
   "id": "51d6f642-64ea-44ea-af2c-498ee709f9de",
   "metadata": {},
   "outputs": [
    {
     "name": "stdout",
     "output_type": "stream",
     "text": [
      "   排名    球员    球队 进球（点球）  出场次数  出场时间  射门  射正\n",
      "0   1   瓦尔迪   莱斯特  17(3)    20  1800  49  29\n",
      "1   2    英斯  南安普敦     14    22  1537  57  26\n",
      "2   3  奥巴梅扬   阿森纳  14(1)    22  1945  55  22\n",
      "3   4  拉什福德    曼联  14(5)    22  1881  74  34\n",
      "4   5  亚伯拉罕   切尔西     13    21  1673  66  29\n"
     ]
    }
   ],
   "source": [
    "print(df.head())"
   ]
  },
  {
   "cell_type": "markdown",
   "id": "31e270e2-c20f-4ed9-94b8-40fbdcd8223f",
   "metadata": {},
   "source": [
    "Series 1维标量，可带索引"
   ]
  },
  {
   "cell_type": "code",
   "execution_count": 1,
   "id": "e6e87ff6-ed77-4b88-b198-037276302434",
   "metadata": {},
   "outputs": [
    {
     "name": "stdout",
     "output_type": "stream",
     "text": [
      "0    88\n",
      "1    60\n",
      "2    75\n",
      "dtype: int64\n"
     ]
    }
   ],
   "source": [
    "import pandas as pd\n",
    "s1 = pd.Series([88,60,75])\n",
    "print(s1)"
   ]
  },
  {
   "cell_type": "code",
   "execution_count": 2,
   "id": "679a05ac-6b30-4b85-bb6c-02796e50c90a",
   "metadata": {},
   "outputs": [],
   "source": [
    "from pandas import Series\n",
    "s1 = Series([88,60,75])"
   ]
  },
  {
   "cell_type": "code",
   "execution_count": 3,
   "id": "b56218da-1701-4f38-af77-edad0118e09a",
   "metadata": {},
   "outputs": [
    {
     "name": "stdout",
     "output_type": "stream",
     "text": [
      "1    88\n",
      "2    60\n",
      "3    75\n",
      "dtype: int64\n",
      "Lily      88\n",
      "Geriec    60\n",
      "Naomi     75\n",
      "dtype: int64\n"
     ]
    }
   ],
   "source": [
    "import pandas as pd\n",
    "s1 = pd.Series([88,60,75],index = [1,2,3])\n",
    "s2 = pd.Series([88,60,75],index = ['Lily','Geriec','Naomi'])\n",
    "print(s1)\n",
    "print(s2)"
   ]
  },
  {
   "cell_type": "code",
   "execution_count": 6,
   "id": "e1eeb585-6ccd-4bf4-83f6-be6dc55400af",
   "metadata": {},
   "outputs": [
    {
     "name": "stdout",
     "output_type": "stream",
     "text": [
      "88\n"
     ]
    }
   ],
   "source": [
    "print(s1[1])"
   ]
  },
  {
   "cell_type": "code",
   "execution_count": 8,
   "id": "8886baa8-db08-4b00-a0d6-24e307544fef",
   "metadata": {},
   "outputs": [
    {
     "name": "stdout",
     "output_type": "stream",
     "text": [
      "60\n",
      "88\n"
     ]
    }
   ],
   "source": [
    "print(s2[1])\n",
    "print(s2['Lily'])"
   ]
  },
  {
   "cell_type": "code",
   "execution_count": 9,
   "id": "030261ac-000b-4558-884d-f03e29ee38db",
   "metadata": {},
   "outputs": [
    {
     "name": "stdout",
     "output_type": "stream",
     "text": [
      "Lily      88\n",
      "Geriec    60\n",
      "Naomi     75\n",
      "dtype: int64\n"
     ]
    }
   ],
   "source": [
    "print(s2['Lily':'Naomi'])"
   ]
  },
  {
   "cell_type": "code",
   "execution_count": null,
   "id": "2430a592-d08d-46ed-9ad5-f1c8f5e17c5b",
   "metadata": {},
   "outputs": [],
   "source": []
  },
  {
   "cell_type": "code",
   "execution_count": 10,
   "id": "3c7cbf58-738b-4ade-a1e4-8ab4a7299bbe",
   "metadata": {},
   "outputs": [
    {
     "name": "stdout",
     "output_type": "stream",
     "text": [
      "2    60\n",
      "3    75\n",
      "dtype: int64\n"
     ]
    }
   ],
   "source": [
    "print(s1[1:3])"
   ]
  },
  {
   "cell_type": "code",
   "execution_count": null,
   "id": "9caaa388",
   "metadata": {},
   "outputs": [],
   "source": [
    "import numpy as np\n",
    "\n",
    "class LinearSVM:\n",
    "    def __init__(self):\n",
    "        self._w = self._b = None\n",
    "        #模拟超平面#\n",
    "        \n",
    "    def fit(self,x,y,c = 1,lr = 0.01,epoch = 10000)\n",
    "        x,y = np.asarray(x,np.float32), np.asarray(y,np.float32)\n",
    "        self._w = np.zeros(x.shape[1])\n",
    "        self._b = 0.\n",
    "        for _ in range(epoch):\n",
    "            self\n"
   ]
  }
 ],
 "metadata": {
  "kernelspec": {
   "display_name": "Python 3",
   "language": "python",
   "name": "python3"
  },
  "language_info": {
   "codemirror_mode": {
    "name": "ipython",
    "version": 3
   },
   "file_extension": ".py",
   "mimetype": "text/x-python",
   "name": "python",
   "nbconvert_exporter": "python",
   "pygments_lexer": "ipython3",
   "version": "3.8.8"
  }
 },
 "nbformat": 4,
 "nbformat_minor": 5
}
